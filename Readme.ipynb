{
 "cells": [
  {
   "cell_type": "markdown",
   "metadata": {},
   "source": [
    "# Start dlt pipeline from scratch"
   ]
  },
  {
   "cell_type": "markdown",
   "metadata": {},
   "source": [
    "- Basic command line on macos:\n",
    "    -`pwd`: Print working directory\n",
    "        Example: `pwd`\n",
    "    - `ls`: List directory contents\n",
    "        Example: `ls`\n",
    "    - `cd`: change directory\n",
    "        Example: `cd /path/to/directory`\n",
    "    - `cd ..` :Navigate up one directory level from the current working directory\n",
    "\n",
    "    - `mkdir`: Make directory\n",
    "        Example: `mkdir new_folder`\n",
    "    - `touch`: Create a New File\n",
    "        Example: `touch filename.txt`\n",
    "    - `cp`: Copy files or directories\n",
    "        Example: `cp source.txt destination.txt`\n",
    "    - `mv`: Move (or Rename) Files or Directories\n",
    "        Example: `mv oldname.txt newname.txt`\n",
    "    - `rm`: Remove Files or Directories\n",
    "        Example: `rm file.txt`. For directories: `rm -r directory_name`\n",
    "\n",
    "- Basic command line on windows:\n",
    "    - Open command prompt: Press `Win + R`, type `cmd`, and press `Enter`.\n",
    "    - `dir`: List directory contents\n",
    "        Example: `dir`\n",
    "    - `cd`: Change directory\n",
    "        Example: `cd C:\\Path\\To\\Directory`\n",
    "    -   `cls`: Clear the screen\n",
    "        Example: `cls`\n",
    "    - `exit`: Close the command prompt\n",
    "        Example: `exit`\n",
    "    - `cd`: Display the current directory.\n",
    "        Example: `cd C:\\Users`\n",
    "    - `cd ..` : Move up one level.\n",
    "\n",
    "    - `cd \\` : Move to Root Directory:\n",
    "    \n",
    "    - `copy`: Copy files from one location to another\n",
    "        Example: `copy file1.txt D:\\Backup\\file1.txt`\n",
    "    - `move`: Move or rename files and directories\n",
    "        Example: `move file1.txt D:\\Backup\\`\n",
    "    - `del`: Delete files\n",
    "        Example: `del file1.txt`\n",
    "    - `mkdir`: Create a new directory\n",
    "        Example: `mkdir NewFolder`\n",
    "    - `rmdir`: Remove a directory\n",
    "        Example: `rmdir NewFolder`\n",
    "\n",
    "- Create project by open folder\n",
    "\n",
    "- Create venv\n",
    "go to `Command Pallette` select `Python: Create Envirionment` selec `Venv` select python 3.11\n",
    "\n",
    "- Open terminal goto `View` select `Terminal`\n",
    "\n",
    "- Activate virtualenv on macos: `source .venv/bin/activate` and on windows: `.venv\\Scripts\\activate`\n",
    "\n",
    "- Deactivat virtualenv on macos: `Deactivate`\n",
    "\n",
    "- Usage: `pip <command> [options]` more details [click](https://pip.pypa.io/en/stable/cli/)\n",
    "\n",
    "- General options for `pip`:\n",
    "    Options:\n",
    "    - -h => Show help. For an example `pip -h`.\n",
    "\n",
    "- Commands:\n",
    "    - install => install packages, for an example: `pip install pandas`\n",
    "    - uninstall => uninstall packages, for an example: `pip uninstall pandas`\n",
    "    - freeze => show installed packages in requirement format, for examples: `pip freeze` and `pip freeze > requirements.txt`    \n",
    "\n",
    "\n",
    "\n",
    "- Install packages: `pip insatall`\n",
    "\n",
    "- Install packages: `pip install dlt pandas \"dlt[duckdb]\" streamlit`\n",
    "\n",
    "- Run script python file from venv `pipenv run python file-name.py`\n",
    "\n",
    "- Comment mulitple lines on mac and windows `cmd+/`.\n",
    "\n",
    "- Show the results on streamlit app `dlt pipeline pipline-name show` \n",
    "\n",
    "- Quit streamlit app `Ctl+c`\n",
    "\n",
    "- Show and hide the hidden folders on mac `shift+command+.`\n",
    "\n",
    "- Install dlt via conda `conda install -c conda-forge dlt`\n",
    "\n",
    "- About conda [click](https://conda.io/projects/conda/en/latest/user-guide/getting-started.html)"
   ]
  },
  {
   "cell_type": "code",
   "execution_count": 1,
   "metadata": {},
   "outputs": [],
   "source": [
    "import pandas as pd"
   ]
  },
  {
   "cell_type": "code",
   "execution_count": 2,
   "metadata": {},
   "outputs": [],
   "source": [
    "import numpy as np"
   ]
  },
  {
   "cell_type": "code",
   "execution_count": 2,
   "metadata": {},
   "outputs": [],
   "source": [
    "data_dict = {'id':[1,2],'name':['AA','BB']}"
   ]
  },
  {
   "cell_type": "code",
   "execution_count": 3,
   "metadata": {},
   "outputs": [],
   "source": [
    "df = pd.DataFrame(data_dict)"
   ]
  },
  {
   "cell_type": "code",
   "execution_count": 4,
   "metadata": {},
   "outputs": [
    {
     "data": {
      "text/html": [
       "<div>\n",
       "<style scoped>\n",
       "    .dataframe tbody tr th:only-of-type {\n",
       "        vertical-align: middle;\n",
       "    }\n",
       "\n",
       "    .dataframe tbody tr th {\n",
       "        vertical-align: top;\n",
       "    }\n",
       "\n",
       "    .dataframe thead th {\n",
       "        text-align: right;\n",
       "    }\n",
       "</style>\n",
       "<table border=\"1\" class=\"dataframe\">\n",
       "  <thead>\n",
       "    <tr style=\"text-align: right;\">\n",
       "      <th></th>\n",
       "      <th>id</th>\n",
       "      <th>name</th>\n",
       "    </tr>\n",
       "  </thead>\n",
       "  <tbody>\n",
       "    <tr>\n",
       "      <th>0</th>\n",
       "      <td>1</td>\n",
       "      <td>AA</td>\n",
       "    </tr>\n",
       "    <tr>\n",
       "      <th>1</th>\n",
       "      <td>2</td>\n",
       "      <td>BB</td>\n",
       "    </tr>\n",
       "  </tbody>\n",
       "</table>\n",
       "</div>"
      ],
      "text/plain": [
       "   id name\n",
       "0   1   AA\n",
       "1   2   BB"
      ]
     },
     "execution_count": 4,
     "metadata": {},
     "output_type": "execute_result"
    }
   ],
   "source": [
    "df"
   ]
  }
 ],
 "metadata": {
  "kernelspec": {
   "display_name": ".venv",
   "language": "python",
   "name": "python3"
  },
  "language_info": {
   "codemirror_mode": {
    "name": "ipython",
    "version": 3
   },
   "file_extension": ".py",
   "mimetype": "text/x-python",
   "name": "python",
   "nbconvert_exporter": "python",
   "pygments_lexer": "ipython3",
   "version": "3.9.19"
  }
 },
 "nbformat": 4,
 "nbformat_minor": 2
}
