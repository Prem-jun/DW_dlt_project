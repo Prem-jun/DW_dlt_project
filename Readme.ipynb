{
 "cells": [
  {
   "cell_type": "markdown",
   "metadata": {},
   "source": [
    "# Start dlt pipeline from scratch\n",
    "---"
   ]
  },
  {
   "cell_type": "markdown",
   "metadata": {},
   "source": [
    "## Fundamental command line"
   ]
  },
  {
   "cell_type": "markdown",
   "metadata": {},
   "source": [
    "- Basic command line on macos:\n",
    "    -`pwd`: Print working directory\n",
    "        Example: `pwd`\n",
    "    - `ls`: List directory contents\n",
    "        Example: `ls`\n",
    "    - `cd`: change directory\n",
    "        Example: `cd /path/to/directory`\n",
    "    - `cd ..` :Navigate up one directory level from the current working directory\n",
    "\n",
    "    - `mkdir`: Make directory\n",
    "        Example: `mkdir new_folder`\n",
    "    - `touch`: Create a New File\n",
    "        Example: `touch filename.txt`\n",
    "    - `cp`: Copy files or directories\n",
    "        Example: `cp source.txt destination.txt`\n",
    "    - `mv`: Move (or Rename) Files or Directories\n",
    "        Example: `mv oldname.txt newname.txt`\n",
    "    - `rm`: Remove Files or Directories\n",
    "        Example: `rm file.txt`. For directories: `rm -r directory_name`\n",
    "\n",
    "    - Show and hide the hidden folders on mac `shift+command+.`\n",
    "\n",
    "    - Comment mulitple lines on mac and windows `cmd+/`.\n",
    "\n",
    "    - Install dlt via conda `conda install -c conda-forge dlt`\n",
    "\n",
    "    - About conda [click](https://conda.io/projects/conda/en/latest/user-guide/getting-started.html)\n",
    "\n",
    "- Basic command line on windows:\n",
    "    - Open command prompt: Press `Win + R`, type `cmd`, and press `Enter`.\n",
    "    - `dir`: List directory contents\n",
    "        Example: `dir`\n",
    "    - `cd`: Change directory\n",
    "        Example: `cd C:\\Path\\To\\Directory`\n",
    "    -   `cls`: Clear the screen\n",
    "        Example: `cls`\n",
    "    - `exit`: Close the command prompt\n",
    "        Example: `exit`\n",
    "    - `cd`: Display the current directory.\n",
    "        Example: `cd C:\\Users`\n",
    "    - `cd ..` : Move up one level.\n",
    "\n",
    "    - `cd \\` : Move to Root Directory:\n",
    "    \n",
    "    - `copy`: Copy files from one location to another\n",
    "        Example: `copy file1.txt D:\\Backup\\file1.txt`\n",
    "    - `move`: Move or rename files and directories\n",
    "        Example: `move file1.txt D:\\Backup\\`\n",
    "    - `del`: Delete files\n",
    "        Example: `del file1.txt`\n",
    "    - `mkdir`: Create a new directory\n",
    "        Example: `mkdir NewFolder`\n",
    "    - `rmdir`: Remove a directory\n",
    "        Example: `rmdir NewFolder`\n",
    "\n",
    "    ---\n",
    "\n",
    "\n",
    "\n"
   ]
  },
  {
   "cell_type": "markdown",
   "metadata": {},
   "source": [
    "## Python virtual environment by `Virtualenv` via VsCode"
   ]
  },
  {
   "cell_type": "markdown",
   "metadata": {},
   "source": [
    "- Create project: go to `File` > `Open Folder..`.\n",
    "\n",
    "- Create venv\n",
    "go to `Command Pallette` select `Python: Create Envirionment` selec `Venv` select python 3.11\n",
    "\n",
    "- Open terminal go to `View` select `Terminal`\n",
    "\n",
    "- Activate virtualenv on macos: `source .venv/bin/activate` and on windows: `.venv\\Scripts\\activate`\n",
    "\n",
    "- Deactivat virtualenv on macos: `Deactivate`\n",
    "\n",
    "- Usage: `pip <command> [options]` more details [click](https://pip.pypa.io/en/stable/cli/)\n",
    "\n",
    "- General options for `pip`:\n",
    "    Options:\n",
    "    - -h => Show help. For an example `pip -h`.\n",
    "\n",
    "- Commands:\n",
    "    - install => install packages, for an example: `pip install pandas`\n",
    "    - uninstall => uninstall packages, for an example: `pip uninstall pandas`\n",
    "    - freeze => show installed packages in requirement format, for examples: `pip freeze` and `pip freeze > requirements.txt`    \n",
    "---\n"
   ]
  },
  {
   "cell_type": "markdown",
   "metadata": {},
   "source": [
    "## Create the first `dlt` pipeline"
   ]
  },
  {
   "cell_type": "markdown",
   "metadata": {},
   "source": [
    ">  `pipeline`is a connection that moves the data from your Python code to a destination. The pipeline accepts dlt `sources` or `resources` as well as `generators`, `async generators`, `lists` and any `iterables`. Once the pipeline runs, all resources get evaluated and the data is loaded at destination.\n",
    "\n",
    "For setting the pipeline,\n",
    "\n",
    "```\n",
    "dlt.pipeline(pipeline_name, destination, dataset_name)\n",
    "```\n",
    "\n",
    "- `pipeline_name` >  a name of the pipeline that will be used to identify it in trace and monitoring events and to restore its state and data schemas on subsequent runs.\n",
    "\n",
    "- `destination` > a name of the `destination` to which dlt will load the data. \n",
    "\n",
    "- `dataset_name` >  name of the dataset to which the data will be loaded. It may be `schema` in relational databases or folder.\n",
    "\n",
    "For running the pipeline,\n",
    "\n",
    "`pipeline.run(data,write_disposition, table_name)`\n",
    "\n",
    "- `data` (the first argument) may be a dlt `source`, `resource`, `generator` function, or any Iterator / Iterable (i.e. a list or the result of map function).\n",
    "\n",
    "- `write_disposition` controls how to write data to a table. Defaults to \"append\".\n",
    "    - `append` will always add new data at the end of the table.\n",
    "    - `replace` will replace existing data with new data.\n",
    "    - `skip` will prevent data from loading.\n",
    "    - `merge` will deduplicate and merge data based on primary_key and merge_key hints.\n",
    "\n",
    "- `table_name` - specified in case when table name cannot be inferred i.e. from the resources or name of the generator function.\n"
   ]
  },
  {
   "cell_type": "markdown",
   "metadata": {},
   "source": [
    "### Start create the first dlt pipeline\n",
    "\n",
    "- Install packages: `pip insatall`\n",
    "\n",
    "- Install packages: `pip install dlt pandas \"dlt[duckdb]\" streamlit`\n",
    "\n",
    "- Run script python file from venv `pipenv run python file-name.py`\n",
    "\n",
    "\n",
    "\n",
    "- Show the results on streamlit app `dlt pipeline pipline-name show` \n",
    "\n",
    "- Quit streamlit app `Ctl+c`\n",
    "\n"
   ]
  }
 ],
 "metadata": {
  "kernelspec": {
   "display_name": ".venv",
   "language": "python",
   "name": "python3"
  },
  "language_info": {
   "codemirror_mode": {
    "name": "ipython",
    "version": 3
   },
   "file_extension": ".py",
   "mimetype": "text/x-python",
   "name": "python",
   "nbconvert_exporter": "python",
   "pygments_lexer": "ipython3",
   "version": "3.9.19"
  }
 },
 "nbformat": 4,
 "nbformat_minor": 2
}
